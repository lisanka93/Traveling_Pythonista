{
  "nbformat": 4,
  "nbformat_minor": 0,
  "metadata": {
    "colab": {
      "provenance": [],
      "authorship_tag": "ABX9TyN0UGRk5sd9zIzzINrGrd7R",
      "include_colab_link": true
    },
    "kernelspec": {
      "name": "python3",
      "display_name": "Python 3"
    },
    "language_info": {
      "name": "python"
    }
  },
  "cells": [
    {
      "cell_type": "markdown",
      "metadata": {
        "id": "view-in-github",
        "colab_type": "text"
      },
      "source": [
        "<a href=\"https://colab.research.google.com/github/lisanka93/Traveling_Pythonista/blob/main/%D0%92%D0%B2%D0%B5%D0%B4%D0%B5%D0%BD%D0%B8%D0%B5_%D0%B2_Python_1_%D0%9F%D0%B5%D1%80%D0%B5%D0%BC%D0%B5%D0%BD%D0%BD%D1%8B%D0%B5_%D0%B8_%D0%92%D0%B2%D0%BE%D0%B4_%D0%92%D1%8B%D0%B2%D0%BE%D0%B4_%D0%9F%D0%BE%D0%BB%D1%8C%D0%B7%D0%BE%D0%B2%D0%B0%D1%82%D0%B5%D0%BB%D1%8F.ipynb\" target=\"_parent\"><img src=\"https://colab.research.google.com/assets/colab-badge.svg\" alt=\"Open In Colab\"/></a>"
      ]
    },
    {
      "cell_type": "markdown",
      "source": [
        "# **Введение в Python**\n",
        "\n",
        "Мы приступаем к изучению языка программирования Python. **Язык программирования** - это строго определенный набор правил, который позволяет взаимодействовать между человеком и компьютером. Язык программирования - это инструмент, с помощью которого вы можете управлять компьютером.\n",
        "\n",
        "\n",
        "Python был задуман Гвидо ван Россумом. То, что началось как хобби-проект, вскоре стало языком общего назначения: в настоящее время вы можете использовать Python для создания практически любого программного обеспечения. Но как это произошло? Ну, прежде всего, Python является программой с открытым исходным кодом. Его использование бесплатно. Во-вторых, в Python очень легко создавать пакеты - это код, который вы можете делиться с другими людьми для решения конкретных задач. Со временем было разработано все больше таких пакетов, специально предназначенных для науки о данных. Предположим, вы хотите создать красочные визуализации продаж вашей компании. Есть пакет для этого. Или что насчет подключения к базе данных для анализа показаний сенсоров? Тоже есть пакет. Люди часто называют Python швейцарским ножом среди языков программирования, так как с ним можно делать практически все."
      ],
      "metadata": {
        "id": "7TKvzexAgAaq"
      }
    },
    {
      "cell_type": "markdown",
      "source": [
        "### Ваша первая программа\n",
        "\n",
        "Выполните ячейку ниже, чтобы запустить вашу первую программу, которая выведет \"Привет, мир!\" на экран."
      ],
      "metadata": {
        "id": "s2FzVExtpcn3"
      }
    },
    {
      "cell_type": "code",
      "source": [
        "print(\"Hello World!\")"
      ],
      "metadata": {
        "id": "iwxOiOtlpsoA"
      },
      "execution_count": null,
      "outputs": []
    },
    {
      "cell_type": "markdown",
      "source": [
        "### Python как калькулятор\n",
        "\n",
        "Выполните ячейки ниже, чтобы вывести ответы вычислений на экран."
      ],
      "metadata": {
        "id": "rr25nkcNr6Rf"
      }
    },
    {
      "cell_type": "code",
      "source": [
        "2 + 3"
      ],
      "metadata": {
        "colab": {
          "base_uri": "https://localhost:8080/"
        },
        "id": "PEcC7RZysMOa",
        "outputId": "80a6b2c1-1f8a-4595-ce82-cafb5799ee64"
      },
      "execution_count": null,
      "outputs": [
        {
          "output_type": "execute_result",
          "data": {
            "text/plain": [
              "5"
            ]
          },
          "metadata": {},
          "execution_count": 3
        }
      ]
    },
    {
      "cell_type": "code",
      "source": [
        "10 - 3"
      ],
      "metadata": {
        "colab": {
          "base_uri": "https://localhost:8080/"
        },
        "id": "vXog_rF_sMQ8",
        "outputId": "6d5c6c49-9ce7-449a-8066-b70efb327ba0"
      },
      "execution_count": null,
      "outputs": [
        {
          "output_type": "execute_result",
          "data": {
            "text/plain": [
              "7"
            ]
          },
          "metadata": {},
          "execution_count": 4
        }
      ]
    },
    {
      "cell_type": "code",
      "source": [
        "4 / 2"
      ],
      "metadata": {
        "colab": {
          "base_uri": "https://localhost:8080/"
        },
        "id": "OiEUSWeSsMUR",
        "outputId": "18a00375-4a75-4698-bff4-57aa7a80ffbd"
      },
      "execution_count": null,
      "outputs": [
        {
          "output_type": "execute_result",
          "data": {
            "text/plain": [
              "2.0"
            ]
          },
          "metadata": {},
          "execution_count": 5
        }
      ]
    },
    {
      "cell_type": "code",
      "source": [
        "2 * 8"
      ],
      "metadata": {
        "colab": {
          "base_uri": "https://localhost:8080/"
        },
        "id": "46mL55GCsQ_V",
        "outputId": "f70c8d22-2742-4826-efb3-ff0cd379bbdb"
      },
      "execution_count": null,
      "outputs": [
        {
          "output_type": "execute_result",
          "data": {
            "text/plain": [
              "16"
            ]
          },
          "metadata": {},
          "execution_count": 6
        }
      ]
    },
    {
      "cell_type": "code",
      "source": [
        "2 * 5 + 3"
      ],
      "metadata": {
        "colab": {
          "base_uri": "https://localhost:8080/"
        },
        "id": "QO81sSbSsa2z",
        "outputId": "2221060b-5ec0-4346-f2b5-5b3d29b940c4"
      },
      "execution_count": null,
      "outputs": [
        {
          "output_type": "execute_result",
          "data": {
            "text/plain": [
              "13"
            ]
          },
          "metadata": {},
          "execution_count": 10
        }
      ]
    },
    {
      "cell_type": "code",
      "source": [
        "2**3"
      ],
      "metadata": {
        "colab": {
          "base_uri": "https://localhost:8080/"
        },
        "id": "0DcnlWFnsRBt",
        "outputId": "64b30183-438b-447b-8e50-8fb755dc6c6a"
      },
      "execution_count": null,
      "outputs": [
        {
          "output_type": "execute_result",
          "data": {
            "text/plain": [
              "8"
            ]
          },
          "metadata": {},
          "execution_count": 8
        }
      ]
    },
    {
      "cell_type": "code",
      "source": [
        "10 % 3"
      ],
      "metadata": {
        "colab": {
          "base_uri": "https://localhost:8080/"
        },
        "id": "0PT7L-zOsWh2",
        "outputId": "8d4da187-88f0-436c-cc95-f56bfeae3e96"
      },
      "execution_count": null,
      "outputs": [
        {
          "output_type": "execute_result",
          "data": {
            "text/plain": [
              "1"
            ]
          },
          "metadata": {},
          "execution_count": 9
        }
      ]
    },
    {
      "cell_type": "markdown",
      "source": [
        "# **Переменные**\n",
        "\n",
        "В этом модуле мы начинаем наше введение в фундаментальную тему изучения любого языка программирования - переменных.\n",
        "\n",
        "С строгой точки зрения переменная - э*то именованная область памяти компьютера, адрес которой позволяет получить доступ к данным. *\n",
        "\n",
        "Чтобы понять, что подразумевается этим определением, давайте посмотрим, как организована память компьютера.\n",
        "\n",
        "В самом простом понимании, **память** представляет собой упорядоченную последовательность ячеек (байтов), в которых хранятся данные. У каждой ячейки есть свой порядковый номер - **адрес**.\n",
        "\n",
        "Адреса, или порядковые номера, сложно запомнить. Они не интуитивны. В ранние дни компьютеров программисту приходилось помнить, где в памяти он хранил данные. Представьте, насколько сложным был процесс разработки программ, если, среди прочего, вам нужно было помнить, в какой ячейке памяти находились ваши данные!\n",
        "\n",
        "Когда вы приглашаете друга в театр, вы, вероятно, не говорите: \"Давай пойдем завтра на театральную площадь 1!\" Нет, скорее всего, вы скажете: \"Давай пойдем завтра в Большой Театр!\" И ваш друг вас прекрасно поймет, потому что зданию на театральную площадь 1 в Москве присвоено узнаваемое имя. Более того, ни вам, ни вашему другу не всегда нужно помнить точный адрес Большего Театра. Переменные были введены по той же причине - для упрощения доступа к данным в памяти.\n"
      ],
      "metadata": {
        "id": "VNacD3UPhVVa"
      }
    },
    {
      "cell_type": "markdown",
      "source": [
        "## **Оператор присваивания**\n",
        "\n",
        "После того как мы узнали, как данные хранятся в памяти, давайте разберемся, как это происходит на уровне программы.\n",
        "\n",
        "Как мы ранее обсудили, переменная - это именованная ячейка памяти. Вы можете представить ее как коробку, в которую помещаются данные. Вы можете положить что-то в нее, проверить, что находится внутри, и иногда даже выполнять действия с содержимым такой коробки."
      ],
      "metadata": {
        "id": "-BBaN6cBhVXq"
      }
    },
    {
      "cell_type": "markdown",
      "source": [
        "# TODO: BOX DOODLE"
      ],
      "metadata": {
        "id": "VcQVp2XghVcN"
      }
    },
    {
      "cell_type": "markdown",
      "source": [
        "Давайте начнем с изучения того, как записывать данные в переменную. Это действие можно выполнить с помощью команды:"
      ],
      "metadata": {
        "id": "AhuQw-V4hVeq"
      }
    },
    {
      "cell_type": "code",
      "source": [
        "some_string = \"Hello World!\""
      ],
      "metadata": {
        "id": "esxUMNlRtIps"
      },
      "execution_count": null,
      "outputs": []
    },
    {
      "cell_type": "markdown",
      "source": [
        "Давайте ближе рассмотрим эту синтаксическую конструкцию. Слева от знака равенства находится имя переменной `some_string`. Справа от знака равенства находятся данные, которые мы хотим поместить в наш контейнер. Сам знак равенства, который называется оператором присваивания, сообщает программе, что данные должны быть сохранены в этой переменной. Строго говоря, имя переменной может быть абсолютно любым:"
      ],
      "metadata": {
        "id": "gshZDNw9hVhA"
      }
    },
    {
      "cell_type": "code",
      "source": [
        "kjdsakdh = \"Hello World!\""
      ],
      "metadata": {
        "id": "4NHmUB9nhUfU"
      },
      "execution_count": null,
      "outputs": []
    },
    {
      "cell_type": "markdown",
      "source": [
        "В данном случае это тоже переменная. Однако вы согласитесь, что переменные с понятными именами выглядят более читаемо.\n",
        "Существуют два основных правила для именования переменных:\n",
        "\n",
        "\n",
        "1.   Имена переменных должны состоять только из букв, цифр и подчеркиваний (_).\n",
        "2.   Имена переменных не могут начинаться с цифры.\n",
        "\n",
        "Помимо этих двух обязательных правил, существует множество менее строгих, но рекомендуемых правил. Эти правила, вместе с другими, описаны в различных версиях документов PEP (Python Enhancement Proposal), которые описывают предложения по улучшению языка.\n",
        "\n",
        "Одним из любимых \"хитов\" Python является возможность выполнения так называемого множественного присвоения. В одной строке вы можете присвоить значения нескольким переменным:"
      ],
      "metadata": {
        "id": "HDUo137_tuRf"
      }
    },
    {
      "cell_type": "code",
      "source": [
        "a, b = \"string a\", \"string b\""
      ],
      "metadata": {
        "id": "V9CJX0hHt6cN"
      },
      "execution_count": null,
      "outputs": []
    },
    {
      "cell_type": "code",
      "source": [
        "a"
      ],
      "metadata": {
        "colab": {
          "base_uri": "https://localhost:8080/",
          "height": 35
        },
        "id": "clx4rcibuHbQ",
        "outputId": "072f26ff-daa5-4c89-8342-bfa0da8b6ef8"
      },
      "execution_count": null,
      "outputs": [
        {
          "output_type": "execute_result",
          "data": {
            "text/plain": [
              "'string a'"
            ],
            "application/vnd.google.colaboratory.intrinsic+json": {
              "type": "string"
            }
          },
          "metadata": {},
          "execution_count": 20
        }
      ]
    },
    {
      "cell_type": "code",
      "source": [
        "b"
      ],
      "metadata": {
        "colab": {
          "base_uri": "https://localhost:8080/",
          "height": 35
        },
        "id": "RY7ADWk8uHx0",
        "outputId": "2ec2cf4d-41c0-44cb-c85f-c2159ea2370e"
      },
      "execution_count": null,
      "outputs": [
        {
          "output_type": "execute_result",
          "data": {
            "text/plain": [
              "'string b'"
            ],
            "application/vnd.google.colaboratory.intrinsic+json": {
              "type": "string"
            }
          },
          "metadata": {},
          "execution_count": 21
        }
      ]
    },
    {
      "cell_type": "markdown",
      "source": [
        "The assignment operator works similarly to assigning a single variable. To the left of the equal sign, you list the variables separated by commas, and to the right of the equal sign, you provide values for those variables in the corresponding order.\n",
        "\n",
        "Thanks to this feature, it becomes convenient to swap the values of two variables. This subtask often arises, for example, when sorting multiple objects. The \"classic\" approach involves creating another variable as a temporary storage:\n"
      ],
      "metadata": {
        "id": "VD6EgxWmuW43"
      }
    },
    {
      "cell_type": "code",
      "source": [
        "temp = a  # Сохранено предыдущее значение 'a' в переменной 'temp'.\n",
        "a = b     # Присвоено значение 'b' переменной 'a'.\n",
        "b = temp  # Возвращено сохраненное значение 'a' переменной 'b'.\n"
      ],
      "metadata": {
        "id": "N_u9TZTFuXmW"
      },
      "execution_count": null,
      "outputs": []
    },
    {
      "cell_type": "code",
      "source": [
        "a"
      ],
      "metadata": {
        "id": "qlvuOXrku8Nv"
      },
      "execution_count": null,
      "outputs": []
    },
    {
      "cell_type": "code",
      "source": [
        "b"
      ],
      "metadata": {
        "id": "6QuN7uSRu8ks"
      },
      "execution_count": null,
      "outputs": []
    },
    {
      "cell_type": "markdown",
      "source": [
        "Multiple assignment allows you to perform this action in a single line:\n"
      ],
      "metadata": {
        "id": "mxUCkJgNuwpw"
      }
    },
    {
      "cell_type": "code",
      "source": [
        "a, b = b, a\n"
      ],
      "metadata": {
        "id": "2Nx17GdAut_k"
      },
      "execution_count": null,
      "outputs": []
    },
    {
      "cell_type": "code",
      "source": [
        "a"
      ],
      "metadata": {
        "colab": {
          "base_uri": "https://localhost:8080/",
          "height": 35
        },
        "id": "iP5dtL2gu0f8",
        "outputId": "730ab6e8-cf09-435b-df2c-aa1837948020"
      },
      "execution_count": null,
      "outputs": [
        {
          "output_type": "execute_result",
          "data": {
            "text/plain": [
              "'string b'"
            ],
            "application/vnd.google.colaboratory.intrinsic+json": {
              "type": "string"
            }
          },
          "metadata": {},
          "execution_count": 23
        }
      ]
    },
    {
      "cell_type": "code",
      "source": [
        "b"
      ],
      "metadata": {
        "colab": {
          "base_uri": "https://localhost:8080/",
          "height": 35
        },
        "id": "UuuYw0MPu1ct",
        "outputId": "05fb0342-2352-4b27-c996-c082cad6814d"
      },
      "execution_count": null,
      "outputs": [
        {
          "output_type": "execute_result",
          "data": {
            "text/plain": [
              "'string a'"
            ],
            "application/vnd.google.colaboratory.intrinsic+json": {
              "type": "string"
            }
          },
          "metadata": {},
          "execution_count": 24
        }
      ]
    },
    {
      "cell_type": "markdown",
      "source": [
        "# **Ввод-Вывод Пользователя**\n",
        "\n",
        "### **Ввод Пользователя**\n",
        "\n",
        "Давайте начнем наше обсуждение ввода данных с клавиатуры в консоль. Это действие выполняется с помощью функции `input()`. Принцип ее работы следующий: когда эта функция встречается в процессе выполнения, программа входит в режим ожидания, что позволяет пользователю ввести данные. После нажатия клавиши Enter введенный текст передается программе как значение, возвращаемое функцией `input()`. Другими словами, возвращаемое значение алгоритма, скрытого за именем input, - это текст, который пользователь вводит с клавиатуры."
      ],
      "metadata": {
        "id": "ecetJZ85u_ae"
      }
    },
    {
      "cell_type": "code",
      "source": [
        "text = input()"
      ],
      "metadata": {
        "colab": {
          "base_uri": "https://localhost:8080/"
        },
        "id": "LfUCvf7RrwGl",
        "outputId": "1750fed5-281b-420c-868b-d4a91072ddef"
      },
      "execution_count": null,
      "outputs": [
        {
          "name": "stdout",
          "output_type": "stream",
          "text": [
            "hello world!\n"
          ]
        }
      ]
    },
    {
      "cell_type": "code",
      "source": [
        "text"
      ],
      "metadata": {
        "colab": {
          "base_uri": "https://localhost:8080/",
          "height": 35
        },
        "id": "-tCHbwj5r60M",
        "outputId": "bf099f1c-2c8d-4e16-a4c9-5b20621f3792"
      },
      "execution_count": null,
      "outputs": [
        {
          "output_type": "execute_result",
          "data": {
            "text/plain": [
              "'hello world!'"
            ],
            "application/vnd.google.colaboratory.intrinsic+json": {
              "type": "string"
            }
          },
          "metadata": {},
          "execution_count": 3
        }
      ]
    },
    {
      "cell_type": "markdown",
      "source": [
        "Функция `input(`) также позволяет выводить подсказки, указывающие, что программа ожидает от пользователя. Для этого необходимо предоставить текстовую подсказку в качестве аргумента функции (внутри круглых скобок после слова input), помня о том, что этот текст должен быть заключен в кавычки."
      ],
      "metadata": {
        "id": "hmWliI04u_c5"
      }
    },
    {
      "cell_type": "code",
      "source": [
        "name = input(\"Введите ваше имя: \")"
      ],
      "metadata": {
        "colab": {
          "base_uri": "https://localhost:8080/"
        },
        "id": "ho33ND7CsO4R",
        "outputId": "daedd982-8adc-4cb5-d0f9-73d91acd60f6"
      },
      "execution_count": null,
      "outputs": [
        {
          "name": "stdout",
          "output_type": "stream",
          "text": [
            "Введите ваше имя:Liza\n"
          ]
        }
      ]
    },
    {
      "cell_type": "code",
      "source": [
        "name"
      ],
      "metadata": {
        "colab": {
          "base_uri": "https://localhost:8080/",
          "height": 35
        },
        "id": "0_K_mOXCsX0Z",
        "outputId": "6d49d7e5-c766-4004-8a87-36a11f9532e4"
      },
      "execution_count": null,
      "outputs": [
        {
          "output_type": "execute_result",
          "data": {
            "text/plain": [
              "'Liza'"
            ],
            "application/vnd.google.colaboratory.intrinsic+json": {
              "type": "string"
            }
          },
          "metadata": {},
          "execution_count": 5
        }
      ]
    },
    {
      "cell_type": "markdown",
      "source": [
        "Следует отметить, что функция input() всегда возвращает данные в виде текста, даже если введено число. После изучения типов данных, мы узнаем, как распознавать числа и как преобразовывать один тип данных в другой.\n",
        "\n",
        "Кроме того, важно помнить, что поскольку функция input() возвращает какое-то значение программе, критически важно сохранить это значение, присвоив его переменной для дальнейшего использования."
      ],
      "metadata": {
        "id": "FWbngkkasOXb"
      }
    },
    {
      "cell_type": "code",
      "source": [
        "input(\"Введите ваше имя: \") #имя не сохраняется для дальнейшего использования"
      ],
      "metadata": {
        "id": "ezkjwPR7tJAu"
      },
      "execution_count": null,
      "outputs": []
    },
    {
      "cell_type": "markdown",
      "source": [
        "### **Вывод в консоль с помощью функции `print()`**\n",
        "\n",
        "С использованием функции `input()` мы можем передавать различные данные в нашу программу, но часто этого недостаточно. Во время работы программы необходимо создавать результаты, которые могут видеть как разработчик, так и пользователь программы.\n",
        "\n",
        "Для выполнения этой задачи мы используем другую функцию под названием `print()`. Она используется для вывода всего, что находится внутри круглых скобок после слова print (аргумент функции). Вы уже знакомы с ней из вашей первой программы, которую вы написали, но давайте посмотрим на нее еще раз:"
      ],
      "metadata": {
        "id": "P_jbMzZHu_fm"
      }
    },
    {
      "cell_type": "code",
      "source": [
        "print(\"Hello, World!\")\n"
      ],
      "metadata": {
        "colab": {
          "base_uri": "https://localhost:8080/"
        },
        "id": "XyYT1knnuDGt",
        "outputId": "c5c40463-465a-48f8-8356-37ef07ef12c8"
      },
      "execution_count": null,
      "outputs": [
        {
          "output_type": "stream",
          "name": "stdout",
          "text": [
            "Hello, World!\n"
          ]
        }
      ]
    },
    {
      "cell_type": "markdown",
      "source": [
        "После выполнения этой команды текст внутри круглых скобок будет отображаться в консоли. Для отображения данных в консоли функции `print()` необходимо знать, что она должна вывести, поэтому мы записываем требуемые данные в качестве аргумента функции. В отличие от функции `input()`, здесь нет необходимости возвращать какие-либо данные в программу, поэтому у функции `print()`нет возвращаемого значения. Это означает, что нет необходимости присваивать ей переменной.\n",
        "\n",
        "Функция print() может отображать не только текст, но и данные других типов, такие как числа:"
      ],
      "metadata": {
        "id": "DzeHCgCXuiW8"
      }
    },
    {
      "cell_type": "code",
      "source": [
        "print(5.83)"
      ],
      "metadata": {
        "colab": {
          "base_uri": "https://localhost:8080/"
        },
        "id": "FNiwA0nFu9zi",
        "outputId": "bb8fd7bd-85e6-40da-f107-764edb737c70"
      },
      "execution_count": null,
      "outputs": [
        {
          "output_type": "stream",
          "name": "stdout",
          "text": [
            "5.83\n"
          ]
        }
      ]
    },
    {
      "cell_type": "markdown",
      "source": [
        "Более того, вы можете одновременно выводить текст и числа в консоль, разделяя входные данные запятыми. По умолчанию функция print() автоматически вставляет пробелы между аргументами:"
      ],
      "metadata": {
        "id": "yLQs2p7Vu7wq"
      }
    },
    {
      "cell_type": "code",
      "source": [
        "print(\"Марии\", 42, \"года\")"
      ],
      "metadata": {
        "colab": {
          "base_uri": "https://localhost:8080/"
        },
        "id": "yHvlUICrt3zK",
        "outputId": "2ed6c89b-6e02-4541-c6bf-3885e69a5bd3"
      },
      "execution_count": null,
      "outputs": [
        {
          "output_type": "stream",
          "name": "stdout",
          "text": [
            "Марии 42 года\n"
          ]
        }
      ]
    },
    {
      "cell_type": "markdown",
      "source": [
        "### **Практический Пример**\n",
        "\n",
        "Давайте посмотрим, как можно использовать и ввод, и вывод данных с клавиатуры для создания формы ввода информации о пользователе.\n"
      ],
      "metadata": {
        "id": "_z6ZBw5IvrUU"
      }
    },
    {
      "cell_type": "code",
      "source": [
        "first_name = input(\"Введите ваше имя:\")\n",
        "last_name = input(\"Введите вашу фамилию:\")\n",
        "print(\"Здравствуйте\", first_name, last_name, \"!\")\n",
        "age = input(\"Введите ваш возраст:\")\n",
        "city = input(\"Введите город проживания:\")"
      ],
      "metadata": {
        "colab": {
          "base_uri": "https://localhost:8080/"
        },
        "id": "Bib54pXcve01",
        "outputId": "e8ee4886-dfad-4e52-c744-851682b0cf02"
      },
      "execution_count": null,
      "outputs": [
        {
          "name": "stdout",
          "output_type": "stream",
          "text": [
            "Введите ваше имя:Lisa\n",
            "Введите вашу фамилию:Shalagina\n",
            "Здравствуйте Lisa Shalagina !\n",
            "Введите ваш возраст:30\n",
            "Введите город проживания:Bangkok\n"
          ]
        }
      ]
    },
    {
      "cell_type": "markdown",
      "source": [
        "Помните, что аргумент внутри круглых скобок при вызове функции input - это не данные, которые вы хотите передать своей программе, а скорее подсказка для пользователя в виде строки. Фактические данные должны быть введены пользователем с клавиатуры. Вы можете вызвать функцию input без аргументов (с пустыми скобками). В этом случае программа просто будет ожидать ввода с клавиатуры, не предоставляя каких-либо подсказок пользователю.\n",
        "\n",
        "После получения ввода от пользователя данные сохраняются в переменной a как строка (даже если вы ввели число). Если вы хотите передать числовое значение программе, которое можно использовать для математических операций, вам следует преобразовать его в числовую переменную с использованием функции int (для целых чисел) или float (для чисел с плавающей запятой). Подробнее об этом в следующем модуле."
      ],
      "metadata": {
        "id": "_490q9LIxh1X"
      }
    },
    {
      "cell_type": "code",
      "source": [
        "age\n"
      ],
      "metadata": {
        "colab": {
          "base_uri": "https://localhost:8080/",
          "height": 35
        },
        "id": "Eei2NXANwAGs",
        "outputId": "5233881d-3f26-4713-e0d2-4a8829978392"
      },
      "execution_count": null,
      "outputs": [
        {
          "output_type": "execute_result",
          "data": {
            "text/plain": [
              "'30'"
            ],
            "application/vnd.google.colaboratory.intrinsic+json": {
              "type": "string"
            }
          },
          "metadata": {},
          "execution_count": 13
        }
      ]
    },
    {
      "cell_type": "code",
      "source": [
        "age + 1"
      ],
      "metadata": {
        "id": "l0ozbzj_yfuu",
        "outputId": "00981214-c4bf-454b-f25c-4506cabfdf4d",
        "colab": {
          "base_uri": "https://localhost:8080/",
          "height": 177
        }
      },
      "execution_count": null,
      "outputs": [
        {
          "output_type": "error",
          "ename": "TypeError",
          "evalue": "ignored",
          "traceback": [
            "\u001b[0;31m---------------------------------------------------------------------------\u001b[0m",
            "\u001b[0;31mTypeError\u001b[0m                                 Traceback (most recent call last)",
            "\u001b[0;32m<ipython-input-14-eac256a954eb>\u001b[0m in \u001b[0;36m<cell line: 1>\u001b[0;34m()\u001b[0m\n\u001b[0;32m----> 1\u001b[0;31m \u001b[0mage\u001b[0m \u001b[0;34m+\u001b[0m \u001b[0;36m1\u001b[0m\u001b[0;34m\u001b[0m\u001b[0;34m\u001b[0m\u001b[0m\n\u001b[0m",
            "\u001b[0;31mTypeError\u001b[0m: can only concatenate str (not \"int\") to str"
          ]
        }
      ]
    },
    {
      "cell_type": "code",
      "source": [],
      "metadata": {
        "id": "_5fwbx4Ryg8f"
      },
      "execution_count": null,
      "outputs": []
    }
  ]
}